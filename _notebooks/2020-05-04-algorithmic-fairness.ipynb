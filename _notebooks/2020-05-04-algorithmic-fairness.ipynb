{
 "cells": [
  {
   "cell_type": "markdown",
   "metadata": {
    "colab_type": "text",
    "id": "FD2lUW6682_3"
   },
   "source": [
    "# One Way to Measure Algorithmic Fairness\n",
    "> as described in the scikit-lego documentation\n",
    "- toc: false,\n",
    "- badges: true,\n",
    "- comments: true,\n",
    "- categories: [machine learning, algorithmic bias, python],\n",
    "- image: images/algorithmic_fairness.JPG,\n",
    "- search_exclude: false,\n",
    "- permalink: /algorithmic-fairness"
   ]
  },
  {
   "cell_type": "markdown",
   "metadata": {},
   "source": [
    "> Tip: The code required to build a pipeline designed to optimize a machine learning model "
   ]
  },
  {
   "cell_type": "code",
   "execution_count": 1,
   "metadata": {
    "colab": {},
    "colab_type": "code",
    "id": "VoGwzI1h8m1n"
   },
   "outputs": [],
   "source": [
    "#collapse-hide\n",
    "import numpy as np\n",
    "import pandas as pd \n",
    "import matplotlib.pylab as plt\n",
    "\n",
    "from sklearn.datasets import load_boston\n",
    "from sklearn.pipeline import Pipeline\n",
    "from sklearn.preprocessing import StandardScaler\n",
    "from sklearn.linear_model import LinearRegression\n",
    "from sklearn.metrics import mean_squared_error\n",
    "\n",
    "from sklego.preprocessing import InformationFilter\n",
    "\n",
    "import warnings\n",
    "warnings.filterwarnings('ignore')"
   ]
  },
  {
   "cell_type": "markdown",
   "metadata": {},
   "source": [
    "## tl:dr\n",
    "\n",
    "Scikit-Learn comes with a copy of UC Irvine's ML housing dataset, which was taken from the StatLib library which is maintained at Carnegie Mellon University. This dataset contains features like \"lower status of population\" and \"the proportion of blacks by town\". This is bad. There's a real possibility that any model made from this dataset will overfit on MSE and underfit on fairness when we want to apply it. Scikit-Lego has some support to deal with fairness issues like this one."
   ]
  },
  {
   "cell_type": "markdown",
   "metadata": {
    "colab_type": "text",
    "id": "0AYjzg5P8m1r"
   },
   "source": [
    "## Measuring Fairness \n",
    "\n",
    "Scikit learn comes with the boston housing dataset. We can make a simple pipeline with it and make us a small model. We can even write the code to also make a plot that can convince us that we're doing well."
   ]
  },
  {
   "cell_type": "code",
   "execution_count": 21,
   "metadata": {
    "colab": {},
    "colab_type": "code",
    "id": "ftuErmm88m1r",
    "outputId": "6cd3e6ac-3cf5-4d84-e0ff-6d48f61b74f3"
   },
   "outputs": [
    {
     "data": {
      "image/png": "[encoded data removed]",
      "text/plain": [
       "<Figure size 432x288 with 1 Axes>"
      ]
     },
     "metadata": {
      "needs_background": "light"
     },
     "output_type": "display_data"
    }
   ],
   "source": [
    "#collapse-hide\n",
    "X, y = load_boston(return_X_y=True)\n",
    "\n",
    "pipe = Pipeline([\n",
    "    (\"scale\", StandardScaler()),\n",
    "    (\"model\", LinearRegression())\n",
    "])\n",
    "\n",
    "plt.scatter(pipe.fit(X, y).predict(X), y)\n",
    "plt.xlabel(\"predictions\")\n",
    "plt.ylabel(\"actual\")\n",
    "plt.title(\"Lookin' Good?!\");"
   ]
  },
  {
   "cell_type": "markdown",
   "metadata": {
    "colab_type": "text",
    "id": "Qp1w4rHY8m1y"
   },
   "source": [
    "We could stop our research here if we think that our MSE is \"good enough\" but this would be dangerous. To find out why, we should look at the variables that are being used in our model. "
   ]
  },
  {
   "cell_type": "code",
   "execution_count": 22,
   "metadata": {
    "colab": {},
    "colab_type": "code",
    "id": "YV1gxEha8m1z",
    "outputId": "3491fe2a-751c-4176-92cf-268a7985a7c8"
   },
   "outputs": [
    {
     "name": "stdout",
     "output_type": "stream",
     "text": [
      ".. _boston_dataset:\n",
      "\n",
      "Boston house prices dataset\n",
      "---------------------------\n",
      "\n",
      "**Data Set Characteristics:**  \n",
      "\n",
      "    :Number of Instances: 506 \n",
      "\n",
      "    :Number of Attributes: 13 numeric/categorical predictive. Median Value (attribute 14) is usually the target.\n",
      "\n",
      "    :Attribute Information (in order):\n",
      "        - CRIM     per capita crime rate by town\n",
      "        - ZN       proportion of residential land zoned for lots over 25,000 sq.ft.\n",
      "        - INDUS    proportion of non-retail business acres per town\n",
      "        - CHAS     Charles River dummy variable (= 1 if tract bounds river; 0 otherwise)\n",
      "        - NOX      nitric oxides concentration (parts per 10 million)\n",
      "        - RM       average number of rooms per dwelling\n",
      "        - AGE      proportion of owner-occupied units built prior to 1940\n",
      "        - DIS      weighted distances to five Boston employment centres\n",
      "        - RAD      index of accessibility to radial highways\n",
      "        - TAX      full-value property-tax rate per $10,000\n",
      "        - PTRATIO  pupil-teacher ratio by town\n",
      "        - B        1000(Bk - 0.63)^2 where Bk is the proportion of blacks by town\n",
      "        - LSTAT    % lower status of the population\n",
      "        - MEDV     Median value of owner\n"
     ]
    }
   ],
   "source": [
    "#collapse-hide\n",
    "print(load_boston()['DESCR'][:1200])"
   ]
  },
  {
   "cell_type": "markdown",
   "metadata": {
    "colab_type": "text",
    "id": "Jpix47Nr8m13"
   },
   "source": [
    "This dataset contains features like \"lower status of population\" and \"the proportion of blacks by town\". This is bad. There's a real possibility that our model will overfit on MSE and underfit on fairness when we want to apply it. Scikit-Lego has some support to deal with fairness issues like this one. \n",
    "\n",
    "Dealing with issues such as fairness in machine learning can in general be done in three ways: \n",
    "\n",
    "- Data preprocessing\n",
    "- Model contraints\n",
    "- Prediction postprocessing.\n",
    "\n",
    "But before we can dive into methods for getting more fair predictions, we first need to define how to measure fairness\n",
    "\n",
    "\n",
    "###  Of Regression\n",
    "\n",
    "Measuring fairness can be done in many ways but we'll consider one definition: the output of the model is fair with regards to groups $A$ and $B$ if prediction has a distribution independant if group $A$ or $B$. In laymans terms: if group $A$ and $B$ don't get the same predictions: no bueno. \n",
    "\n",
    "Formally, this can be written as:\n",
    "\n",
    "$$fairness = \\left\\lvert \\frac{1}{|Z_1|} \\sum_{i \\in Z_1} \\hat{y}_{i} - \\frac{1}{|Z_0|} \\sum_{i \\in Z_0} \\hat{y}_{i} \\right\\rvert$$\n",
    "\n",
    "where $Z_1$ is the subset of the population where our sensitive attribute is true, and $Z_0$ the subset of the population where the sensitive attribute is false\n",
    "\n",
    "To estimate this we'll use bootstrap sampling to measure the models bias.\n",
    "\n",
    "###  Of Classification\n",
    "\n",
    "A common method for measuring fairness is __demographic parity__[<sup>1</sup>](#fn1), for example through the p-percent metric. \n",
    "The idea behind it is that it requires that a decision — such as accepting or denying a loan application — be independent of the protected attribute. In other words, we expect the __positive__ rate in both groups to be the same. In the case of a binary decision $\\hat{y}$ and a binary protected attribute $z$, this constraint can be formalized by asking that\n",
    "\n",
    "$$P(\\hat{y}=1 | z=0)=P(\\hat{y}=1 | z=1)$$\n",
    "\n",
    "You can turn this into a metric by calculating how far off this exact equality your decision process is. This metric is called the p% score\n",
    "\n",
    "$$\\text{p% score} = \\min \\left(\\frac{P(\\hat{y}=1 | z=1)}{P(\\hat{y}=1 | z=0)}, \\frac{P(\\hat{y}=1 | z=0)}{P(\\hat{y}=1 | z=1)}\\right)$$\n",
    "\n",
    "In other words, membership in a protected class should have no correlation with the decision.\n",
    "\n",
    "In `sklego` this metric is implemented in `sklego.metrics.p_percent_score` and it works as follows:\n"
   ]
  },
  {
   "cell_type": "code",
   "execution_count": 23,
   "metadata": {
    "colab": {},
    "colab_type": "code",
    "id": "2TpQqRRe8m14",
    "outputId": "312bd585-d58b-4fc3-cf36-d34f7e38930b"
   },
   "outputs": [
    {
     "name": "stdout",
     "output_type": "stream",
     "text": [
      "p_percent_score: 0\n"
     ]
    }
   ],
   "source": [
    "#collapse-hide\n",
    "from sklego.metrics import p_percent_score\n",
    "from sklearn.linear_model import LogisticRegression\n",
    "\n",
    "sensitive_classification_dataset = pd.DataFrame({\n",
    "    \"x1\": [1, 0, 1, 0, 1, 0, 1, 1],\n",
    "    \"x2\": [0, 0, 0, 0, 0, 1, 1, 1],\n",
    "    \"y\": [1, 1, 1, 0, 1, 0, 0, 0]}\n",
    ")\n",
    "\n",
    "X, y = sensitive_classification_dataset.drop(columns='y'), sensitive_classification_dataset['y']\n",
    "mod_unfair = LogisticRegression(solver='lbfgs').fit(X, y)\n",
    "\n",
    "print('p_percent_score:', p_percent_score(sensitive_column=\"x2\")(mod_unfair, X))"
   ]
  },
  {
   "cell_type": "markdown",
   "metadata": {
    "colab_type": "text",
    "id": "Hk80Phdk8m17"
   },
   "source": [
    "Of course, no metric is perfect. If we for example use this in a loan approval situation, the demographic parity only looks at loans given, and not at the rate at which loans are paid back. That might result in a lower percentage of qualified people who are given loans in one population than in another. Another way of measuring fairness could be therefore to measure __equal opportunity__[<sup>2</sup>](#fn2) instead. This constraint would boil down to:\n",
    "\n",
    "$$P(\\hat{y}=1 | z=0, y=1)=P(\\hat{y}=1 | z=1, y=1)$$\n",
    "\n",
    "and be turned into a metric in the same way as above:\n",
    "\n",
    "$$\\text{equality of opportunity} = \\min \\left(\\frac{P(\\hat{y}=1 | z=1, y=1)}{P(\\hat{y}=1 | z=0, y=1)}, \\frac{P(\\hat{y}=1 | z=0, y=1)}{P(\\hat{y}=1 | z=1, y=1)}\\right)$$\n",
    "\n",
    "We can see in the example below that the equal opportunity score does not differ for the models as long as the records where `y_true = 1` are predicted correctly."
   ]
  },
  {
   "cell_type": "code",
   "execution_count": 24,
   "metadata": {
    "colab": {},
    "colab_type": "code",
    "id": "sCgqBYDq8m17",
    "outputId": "9ce98f54-c78d-4014-d83e-4134f59b787a",
    "scrolled": true
   },
   "outputs": [
    {
     "name": "stdout",
     "output_type": "stream",
     "text": [
      "equal_opportunity_score: 0.75\n",
      "equal_opportunity_score: 0.75\n",
      "equal_opportunity_score: 0.0\n"
     ]
    }
   ],
   "source": [
    "#collapse-hide\n",
    "from sklego.metrics import equal_opportunity_score\n",
    "from sklearn.linear_model import LogisticRegression\n",
    "import types\n",
    "\n",
    "sensitive_classification_dataset = pd.DataFrame({\n",
    "    \"x1\": [1, 0, 1, 0, 1, 0, 1, 1],\n",
    "    \"x2\": [0, 0, 0, 0, 0, 1, 1, 1],\n",
    "    \"y\": [1, 1, 1, 0, 1, 0, 0, 1]}\n",
    ")\n",
    "\n",
    "X, y = sensitive_classification_dataset.drop(columns='y'), sensitive_classification_dataset['y']\n",
    "\n",
    "mod_1 = types.SimpleNamespace()\n",
    "\n",
    "mod_1.predict = lambda X: np.array([1, 0, 1, 0, 1, 0, 1, 1])\n",
    "print('equal_opportunity_score:', equal_opportunity_score(sensitive_column=\"x2\")(mod_1, X, y))\n",
    "\n",
    "mod_1.predict = lambda X: np.array([1, 0, 1, 0, 1, 0, 0, 1])\n",
    "print('equal_opportunity_score:', equal_opportunity_score(sensitive_column=\"x2\")(mod_1, X, y))\n",
    "\n",
    "mod_1.predict = lambda X: np.array([1, 0, 1, 0, 1, 0, 0, 0])\n",
    "\n",
    "print('equal_opportunity_score:', equal_opportunity_score(sensitive_column=\"x2\")(mod_1, X, y))"
   ]
  },
  {
   "cell_type": "markdown",
   "metadata": {
    "colab_type": "text",
    "id": "sD70gnqN8m1-"
   },
   "source": [
    "## Data preprocessing\n",
    "When doing data preprocessing we're trying to remove any bias caused by the sensitive variable from the input dataset. By doing this, we remain flexible in our choice of models.\n",
    "\n",
    "### Information Filter\n",
    "\n",
    "This is a great opportunity to use the `InformationFilter` which can filter the information of these two sensitive columns away as a transformation step. It does this by projecting all vectors away such that the remaining dataset is orthogonal to the sensitive columns.\n",
    "\n",
    "#### How it Works \n",
    "\n",
    "The `InformationFilter` uses a variant of the [gram smidt process](https://en.wikipedia.org/wiki/Gram%E2%80%93Schmidt_process) to filter information out of the dataset. We can make it visual in two dimensions;\n",
    "\n",
    "![](../images/projections.png)\n",
    "\n",
    "To explain what occurs in higher dimensions we need to resort to maths. Take a training matrix $X$ that contains columns $x_1, ..., x_k$. If we assume columns $x_1$ and $x_2$ to be the sensitive columns then the information filter will filter out information using this approach; \n",
    "\n",
    "$$\n",
    "\\begin{split}\n",
    "v_1 & = x_1 \\\\\n",
    "v_2 & = x_2 - \\frac{x_2 v_1}{v_1 v_1}\\\\\n",
    "v_3 & = x_3 - \\frac{x_3 v_1}{v_1 v_1} - \\frac{x_3 v_2}{v_2 v_2}\\\\\n",
    "... \\\\ \n",
    "v_k & = x_k - \\frac{x_k v_1}{v_1 v_1} - \\frac{x_k' v_2}{v_2 v_2}\n",
    "\\end{split}\n",
    "$$\n",
    "\n",
    "Concatenating our vectors (but removing the sensitive ones) gives us a new training matrix $X_{\\text{more fair}} =  [v_3, ..., v_k]$. \n",
    "\n",
    "## Experiment \n",
    "\n",
    "We will demonstrate the effect of applying this by benchmarking three things: \n",
    "\n",
    "1. Keep $X$ as is. \n",
    "2. Drop the two columns that are sensitive.\n",
    "3. Use the information filter\n",
    "\n",
    "We'll use the regression metric defined above to show the differences in fairness"
   ]
  },
  {
   "cell_type": "code",
   "execution_count": 25,
   "metadata": {
    "colab": {},
    "colab_type": "code",
    "id": "OwvWGQ2j8m1_"
   },
   "outputs": [],
   "source": [
    "#collapse-hide\n",
    "X, y = load_boston(return_X_y=True)\n",
    "df = pd.DataFrame(X, columns=['crim','zn','indus','chas','nox',\n",
    "                              'rm','age','dis','rad','tax','ptratio',\n",
    "                              'b','lstat'])\n",
    "X_drop = df.drop(columns=[\"lstat\", \"b\"])\n",
    "X_fair = InformationFilter([\"lstat\", \"b\"]).fit_transform(df)\n",
    "X_fair = pd.DataFrame(X_fair, \n",
    "                      columns=[n for n in df.columns if n not in ['b', 'lstat']])"
   ]
  },
  {
   "cell_type": "code",
   "execution_count": 26,
   "metadata": {
    "colab": {},
    "colab_type": "code",
    "id": "GIQGbuv78m2C"
   },
   "outputs": [],
   "source": [
    "#collapse-hide\n",
    "def simple_mod():\n",
    "    return Pipeline([(\"scale\", StandardScaler()), (\"mod\", LinearRegression())])\n",
    "\n",
    "base_mod = simple_mod().fit(X, y)\n",
    "drop_mod = simple_mod().fit(X_drop, y)\n",
    "fair_mod = simple_mod().fit(X_fair, y)\n",
    "\n",
    "base_pred = base_mod.predict(X)\n",
    "drop_pred = drop_mod.predict(X_drop)\n",
    "fair_pred = fair_mod.predict(X_fair)"
   ]
  },
  {
   "cell_type": "markdown",
   "metadata": {
    "colab_type": "text",
    "id": "BYmGmrZh8m2E"
   },
   "source": [
    "We can see that the coefficients of the three models are indeed different."
   ]
  },
  {
   "cell_type": "code",
   "execution_count": 27,
   "metadata": {
    "colab": {},
    "colab_type": "code",
    "id": "B5i3jMvc8m2F",
    "outputId": "7ed955c3-de31-48ec-8925-8989719c868b"
   },
   "outputs": [
    {
     "data": {
      "text/html": [
       "<div>\n",
       "<style scoped>\n",
       "    .dataframe tbody tr th:only-of-type {\n",
       "        vertical-align: middle;\n",
       "    }\n",
       "\n",
       "    .dataframe tbody tr th {\n",
       "        vertical-align: top;\n",
       "    }\n",
       "\n",
       "    .dataframe thead th {\n",
       "        text-align: right;\n",
       "    }\n",
       "</style>\n",
       "<table border=\"1\" class=\"dataframe\">\n",
       "  <thead>\n",
       "    <tr style=\"text-align: right;\">\n",
       "      <th></th>\n",
       "      <th>crim</th>\n",
       "      <th>zn</th>\n",
       "      <th>indus</th>\n",
       "      <th>chas</th>\n",
       "      <th>nox</th>\n",
       "      <th>rm</th>\n",
       "      <th>age</th>\n",
       "      <th>dis</th>\n",
       "      <th>rad</th>\n",
       "      <th>tax</th>\n",
       "      <th>ptratio</th>\n",
       "      <th>b</th>\n",
       "      <th>lstat</th>\n",
       "    </tr>\n",
       "  </thead>\n",
       "  <tbody>\n",
       "    <tr>\n",
       "      <th>0</th>\n",
       "      <td>-0.928146</td>\n",
       "      <td>1.081569</td>\n",
       "      <td>0.140900</td>\n",
       "      <td>0.681740</td>\n",
       "      <td>-2.056718</td>\n",
       "      <td>2.674230</td>\n",
       "      <td>0.019466</td>\n",
       "      <td>-3.104044</td>\n",
       "      <td>2.662218</td>\n",
       "      <td>-2.076782</td>\n",
       "      <td>-2.060607</td>\n",
       "      <td>0.849268</td>\n",
       "      <td>-3.743627</td>\n",
       "    </tr>\n",
       "    <tr>\n",
       "      <th>1</th>\n",
       "      <td>-1.581396</td>\n",
       "      <td>0.911004</td>\n",
       "      <td>-0.290074</td>\n",
       "      <td>0.884936</td>\n",
       "      <td>-2.567870</td>\n",
       "      <td>4.264702</td>\n",
       "      <td>-1.270735</td>\n",
       "      <td>-3.331836</td>\n",
       "      <td>2.215737</td>\n",
       "      <td>-2.056246</td>\n",
       "      <td>-2.154600</td>\n",
       "      <td>NaN</td>\n",
       "      <td>NaN</td>\n",
       "    </tr>\n",
       "    <tr>\n",
       "      <th>2</th>\n",
       "      <td>-0.763568</td>\n",
       "      <td>1.028051</td>\n",
       "      <td>0.061393</td>\n",
       "      <td>0.697504</td>\n",
       "      <td>-1.605464</td>\n",
       "      <td>6.846774</td>\n",
       "      <td>-0.057920</td>\n",
       "      <td>-2.537602</td>\n",
       "      <td>1.935058</td>\n",
       "      <td>-1.779825</td>\n",
       "      <td>-2.793069</td>\n",
       "      <td>NaN</td>\n",
       "      <td>NaN</td>\n",
       "    </tr>\n",
       "  </tbody>\n",
       "</table>\n",
       "</div>"
      ],
      "text/plain": [
       "       crim        zn     indus      chas       nox        rm       age  \\\n",
       "0 -0.928146  1.081569  0.140900  0.681740 -2.056718  2.674230  0.019466   \n",
       "1 -1.581396  0.911004 -0.290074  0.884936 -2.567870  4.264702 -1.270735   \n",
       "2 -0.763568  1.028051  0.061393  0.697504 -1.605464  6.846774 -0.057920   \n",
       "\n",
       "        dis       rad       tax   ptratio         b     lstat  \n",
       "0 -3.104044  2.662218 -2.076782 -2.060607  0.849268 -3.743627  \n",
       "1 -3.331836  2.215737 -2.056246 -2.154600       NaN       NaN  \n",
       "2 -2.537602  1.935058 -1.779825 -2.793069       NaN       NaN  "
      ]
     },
     "execution_count": 27,
     "metadata": {},
     "output_type": "execute_result"
    }
   ],
   "source": [
    "#collapse-hide\n",
    "pd.DataFrame([base_mod.steps[1][1].coef_, drop_mod.steps[1][1].coef_, fair_mod.steps[1][1].coef_], columns=df.columns)"
   ]
  },
  {
   "cell_type": "code",
   "execution_count": 28,
   "metadata": {
    "colab": {},
    "colab_type": "code",
    "id": "QIwLWX418m2H"
   },
   "outputs": [],
   "source": [
    "#collapse-hide\n",
    "# we're using lstat to select the group to keep things simple\n",
    "selector = df[\"lstat\"] > np.quantile(df[\"lstat\"], 0.5)\n",
    "\n",
    "def bootstrap_means(preds, selector, n=2500, k=25):\n",
    "    grp1 = np.random.choice(preds[selector], (n, k)).mean(axis=1)\n",
    "    grp2 = np.random.choice(preds[~selector], (n, k)).mean(axis=1)\n",
    "    return grp1 - grp2"
   ]
  },
  {
   "cell_type": "markdown",
   "metadata": {
    "colab_type": "text",
    "id": "h99s3Rik8m2J"
   },
   "source": [
    "### Measuring Fairness of Original Scenario"
   ]
  },
  {
   "cell_type": "code",
   "execution_count": 29,
   "metadata": {
    "colab": {},
    "colab_type": "code",
    "id": "8ZFQLDeu8m2J",
    "outputId": "5985f21c-f135-4000-e539-adda76faf698"
   },
   "outputs": [
    {
     "data": {
      "image/png": "[encoded data removed]",
      "text/plain": [
       "<Figure size 720x360 with 2 Axes>"
      ]
     },
     "metadata": {
      "needs_background": "light"
     },
     "output_type": "display_data"
    }
   ],
   "source": [
    "#collapse-hide\n",
    "plt.figure(figsize=(10, 5))\n",
    "plt.subplot(121)\n",
    "plt.scatter(base_pred, y)\n",
    "plt.title(f\"MSE: {mean_squared_error(y, base_pred)}\")\n",
    "plt.subplot(122)\n",
    "plt.hist(bootstrap_means(base_pred, selector), bins=30, density=True, alpha=0.8)\n",
    "plt.title(f\"Fairness Proxy\");"
   ]
  },
  {
   "cell_type": "markdown",
   "metadata": {
    "colab_type": "text",
    "id": "J4KB9hD08m2O"
   },
   "source": [
    "### Measuring Fairness after Dropping Columns"
   ]
  },
  {
   "cell_type": "code",
   "execution_count": 30,
   "metadata": {
    "colab": {},
    "colab_type": "code",
    "id": "wHBDxfdq8m2P",
    "outputId": "fcb5da67-2e32-416e-89e4-146458873200"
   },
   "outputs": [
    {
     "data": {
      "image/png": "[encoded data removed]",
      "text/plain": [
       "<Figure size 720x360 with 2 Axes>"
      ]
     },
     "metadata": {
      "needs_background": "light"
     },
     "output_type": "display_data"
    }
   ],
   "source": [
    "#collapse-hide\n",
    "plt.figure(figsize=(10, 5))\n",
    "plt.subplot(121)\n",
    "plt.scatter(drop_pred, y)\n",
    "plt.title(f\"MSE: {mean_squared_error(y, drop_pred)}\")\n",
    "plt.subplot(122)\n",
    "plt.hist(bootstrap_means(base_pred, selector), bins=30, density=True, alpha=0.8)\n",
    "plt.hist(bootstrap_means(drop_pred, selector), bins=30, density=True, alpha=0.8)\n",
    "plt.title(f\"Fairness Proxy\");"
   ]
  },
  {
   "cell_type": "markdown",
   "metadata": {
    "colab_type": "text",
    "id": "47snKXJH8m2R"
   },
   "source": [
    "### Measuring Fairness after Applying Information Filter"
   ]
  },
  {
   "cell_type": "code",
   "execution_count": 31,
   "metadata": {
    "colab": {},
    "colab_type": "code",
    "id": "3MNyx_pW8m2S",
    "outputId": "0ee98b5f-54a6-4386-96fb-c35e3d7ef367"
   },
   "outputs": [
    {
     "data": {
      "image/png": "[encoded data removed]",
      "text/plain": [
       "<Figure size 720x360 with 2 Axes>"
      ]
     },
     "metadata": {
      "needs_background": "light"
     },
     "output_type": "display_data"
    }
   ],
   "source": [
    "#collapse-hide\n",
    "plt.figure(figsize=(10, 5))\n",
    "plt.subplot(121)\n",
    "plt.scatter(fair_pred, y)\n",
    "plt.title(f\"MSE: {mean_squared_error(y, fair_pred)}\")\n",
    "plt.subplot(122)\n",
    "plt.hist(bootstrap_means(base_pred, selector), bins=30, density=True, alpha=0.8)\n",
    "plt.hist(bootstrap_means(fair_pred, selector), bins=30, density=True, alpha=0.8)\n",
    "plt.title(f\"Fairness Proxy\");"
   ]
  },
  {
   "cell_type": "markdown",
   "metadata": {
    "colab_type": "text",
    "id": "rmMyVt1R8m2U"
   },
   "source": [
    "There definitely is a balance between fairness and model accuracy. Which model you'll use depends on the world you want to create by applying your model. \n",
    "\n",
    "Note that you can combine models here to make an ensemble too. You can also use the difference between the 1st and  last model as a proxy for bias."
   ]
  },
  {
   "cell_type": "markdown",
   "metadata": {
    "colab_type": "text",
    "id": "-NNlNPxc8m2V"
   },
   "source": [
    "## Model constraints\n",
    "\n",
    "Another way we could tackle this fairness problem would be to explicitly take fairness into account when optimizing the parameters of our model. This is implemented in the `DemographicParityClassifier` as well as the `EqualOpportunityClassifier`.\n",
    "\n",
    "Both these models are built as an extension of basic logistic regression. Where logistic regression optimizes the following problem:\n",
    "\n",
    "$$\\begin{array}{cl}\n",
    "{\\operatorname{minimize}} & -\\sum_{i=1}^{N} \\log p\\left(y_{i} | \\mathbf{x}_{i},\\boldsymbol{\\theta}\\right)\n",
    "\\end{array}\n",
    "$$\n",
    "\n",
    "We would like to instead optimize this:\n",
    "\n",
    "$$\\begin{array}{cl}{\\operatorname{minimize}} & -\\sum_{i=1}^{N} \\log p\\left(y_{i} | \\mathbf{x}_{i},\n",
    "        \\boldsymbol{\\theta}\\right)\\\\\n",
    "{\\text { subject to }} & \\text{fairness} \\geq \\mathbf{c}\\end{array}    $$  \n",
    "        \n"
   ]
  },
  {
   "cell_type": "markdown",
   "metadata": {
    "colab_type": "text",
    "id": "N_05YRId8m2V"
   },
   "source": [
    "## Demographic Parity Classifier\n",
    "\n",
    "The p% score discussed above is a nice metric but unfortunately it is rather hard to directly implement in the formulation into our model as it is a non-convex function making it difficult to optimize directly. Also, as the p% rule only depends on which side of the decision boundary an observation lies, it is invariant in small changes in the decision boundary. This causes large saddle points in the objective making optimization even more difficult\n",
    "\n",
    "Instead of optimizing for the p% directly, we approximate it by taking the covariance between the users’ sensitive\n",
    "attributes, $z$m, and the decision boundary. This results in the following formulation of our `DemographicParityClassifier`.\n",
    "\n",
    "$$\\begin{array}{cl}{\\operatorname{minimize}} & -\\sum_{i=1}^{N} \\log p\\left(y_{i} | \\mathbf{x}_{i},\n",
    "        \\boldsymbol{\\theta}\\right)\\\\\n",
    "{\\text { subject to }} & {\\frac{1}{N} \\sum_{i=1}^{N}\\left(\\mathbf{z}_{i}-\\overline{\\mathbf{z}}\\right) d_\n",
    "        \\boldsymbol{\\theta}\\left(\\mathbf{x}_{i}\\right) \\leq \\mathbf{c}} \\\\\n",
    "        {} & {\\frac{1}{N} \\sum_{i=1}^{N}\\left(\\mathbf{z}_{i}-\\overline{\\mathbf{z}}\\right)\n",
    "        d_{\\boldsymbol{\\theta}}\\left(\\mathbf{x}_{i}\\right) \\geq-\\mathbf{c}}\\end{array}    $$  \n",
    "        \n",
    "Let's see what the effect of this is. As this is a Classifier and not a Regressor, we transform the target to a binary variable indicating whether it is above or below the median. Our p% metric also assumes a binary indicator for sensitive columns so we do the same for our `lstat` column. \n",
    "\n",
    "Fitting the model is as easy as fitting a normal sklearn model. We just need to supply the columns that should be treated as sensitive to the model, as well as the maximum covariance we want to have. "
   ]
  },
  {
   "cell_type": "code",
   "execution_count": 32,
   "metadata": {
    "colab": {},
    "colab_type": "code",
    "id": "fPbqFJHF8m2V",
    "outputId": "8be77550-9522-49e1-ce11-b2528fefa258"
   },
   "outputs": [],
   "source": [
    "#collapse-hide\n",
    "from sklego.linear_model import DemographicParityClassifier\n",
    "from sklearn.linear_model import LogisticRegression\n",
    "from sklego.metrics import p_percent_score\n",
    "\n",
    "from sklearn.metrics import accuracy_score, make_scorer\n",
    "from sklearn.model_selection import GridSearchCV\n",
    "\n",
    "df_clf = df.assign(lstat=lambda d: d['lstat'] > np.median(d['lstat']))\n",
    "y_clf = y > np.median(y)\n",
    "\n",
    "normal_classifier = LogisticRegression(solver='lbfgs')\n",
    "normal_classifier.fit(df_clf, y_clf)\n",
    "fair_classifier = DemographicParityClassifier(sensitive_cols=\"lstat\", covariance_threshold=0.5)\n",
    "fair_classifier.fit(df_clf, y_clf);"
   ]
  },
  {
   "cell_type": "markdown",
   "metadata": {
    "colab_type": "text",
    "id": "2nyuenXf8m2Z"
   },
   "source": [
    "Comparing the two models on their p% scores also shows that the fair classifier has a much higher fairness score at a slight cost in accuracy.\n",
    "\n",
    "We'll compare these two models by doing a gridsearch on the effect of the `covariance_threshold`."
   ]
  },
  {
   "cell_type": "code",
   "execution_count": 33,
   "metadata": {
    "colab": {},
    "colab_type": "code",
    "id": "Lub0WTik8m2a"
   },
   "outputs": [],
   "source": [
    "#collapse-hide\n",
    "fair_classifier = GridSearchCV(estimator=DemographicParityClassifier(sensitive_cols=\"lstat\", \n",
    "                                                        covariance_threshold=0.5),\n",
    "                               param_grid={\"estimator__covariance_threshold\": \n",
    "                                           np.linspace(0.01, 1.00, 20)},\n",
    "                               cv=5,\n",
    "                               refit=\"accuracy_score\",\n",
    "                               return_train_score=True,\n",
    "                               scoring={\"p_percent_score\": p_percent_score('lstat'),\n",
    "                                        \"accuracy_score\": make_scorer(accuracy_score)})\n",
    "\n",
    "with warnings.catch_warnings():\n",
    "    warnings.simplefilter(\"ignore\")\n",
    "    fair_classifier.fit(df_clf, y_clf);\n",
    "\n",
    "    pltr = (pd.DataFrame(fair_classifier.cv_results_)\n",
    "            .set_index(\"param_estimator__covariance_threshold\"))\n",
    "\n",
    "    p_score = p_percent_score('lstat')(normal_classifier, df_clf, y_clf)\n",
    "    acc_score = accuracy_score(normal_classifier.predict(df_clf), y_clf)"
   ]
  },
  {
   "cell_type": "markdown",
   "metadata": {
    "colab_type": "text",
    "id": "9pKyYfhn8m2c"
   },
   "source": [
    "The results of the grid search are shown below. Note that the logistic regression results are of the train set, not the test set. We can see that the increase in fairness comes at the cost of accuracy but this might literally be a fair tradeoff. "
   ]
  },
  {
   "cell_type": "code",
   "execution_count": 34,
   "metadata": {
    "colab": {},
    "colab_type": "code",
    "id": "DohLR8Sd8m2d",
    "outputId": "a45cabdd-c8b9-4731-82fb-efc4506991f8"
   },
   "outputs": [
    {
     "data": {
      "image/png": "[encoded data removed]",
      "text/plain": [
       "<Figure size 864x216 with 2 Axes>"
      ]
     },
     "metadata": {
      "needs_background": "light"
     },
     "output_type": "display_data"
    }
   ],
   "source": [
    "#collapse-hide\n",
    "plt.figure(figsize=(12, 3))\n",
    "plt.subplot(121)\n",
    "plt.plot(np.array(pltr.index), pltr['mean_test_p_percent_score'], label='fairclassifier')\n",
    "plt.plot(np.linspace(0, 1, 2), [p_score for _ in range(2)], label='logistic-regression')\n",
    "plt.xlabel(\"covariance threshold\")\n",
    "plt.legend()\n",
    "plt.title(\"p% score\")\n",
    "plt.subplot(122)\n",
    "plt.plot(np.array(pltr.index), pltr['mean_test_accuracy_score'], label='fairclassifier')\n",
    "plt.plot(np.linspace(0, 1, 2), [acc_score for _ in range(2)], label='logistic-regression')\n",
    "plt.xlabel(\"covariance threshold\")\n",
    "plt.legend()\n",
    "plt.title(\"accuracy\");"
   ]
  },
  {
   "cell_type": "markdown",
   "metadata": {
    "colab_type": "text",
    "id": "T2J5r1i78m2j"
   },
   "source": [
    "## Equal opportunity\n",
    "\n",
    "In the same spirit as the `DemographicParityClassifier` discussed above, there is also an `EqualOpportunityClassifier` which optimizes\n",
    "\n",
    "$$\\begin{array}{cl}{\\operatorname{minimize}} & -\\sum_{i=1}^{N} \\log p\\left(y_{i} | \\mathbf{x}_{i},\n",
    "        \\boldsymbol{\\theta}\\right) \\\\\n",
    "        {\\text { subject to }} & {\\frac{1}{POS} \\sum_{i=1}^{POS}\\left(\\mathbf{z}_{i}-\\overline{\\mathbf{z}}\\right) d\n",
    "        \\boldsymbol{\\theta}\\left(\\mathbf{x}_{i}\\right) \\leq \\mathbf{c}} \\\\\n",
    "        {} & {\\frac{1}{POS} \\sum_{i=1}^{POS}\\left(\\mathbf{z}_{i}-\\overline{\\mathbf{z}}\\right)\n",
    "        d_{\\boldsymbol{\\theta}}\\left(\\mathbf{x}_{i}\\right) \\geq-\\mathbf{c}}\\end{array}$$\n",
    "\n",
    "where POS is the subset of the population where `y_true = positive_target`"
   ]
  },
  {
   "cell_type": "code",
   "execution_count": 35,
   "metadata": {
    "colab": {},
    "colab_type": "code",
    "id": "FGEuRKl38m2l"
   },
   "outputs": [],
   "source": [
    "#collapse-hide\n",
    "from sklego.linear_model import EqualOpportunityClassifier\n",
    "\n",
    "fair_classifier = GridSearchCV(\n",
    "    estimator=EqualOpportunityClassifier(\n",
    "        sensitive_cols=\"lstat\", \n",
    "        covariance_threshold=0.5,\n",
    "        positive_target=True,\n",
    "    ),\n",
    "    param_grid={\"estimator__covariance_threshold\": np.linspace(0.001, 1.00, 20)},\n",
    "    cv=5,\n",
    "    n_jobs=-1,\n",
    "    refit=\"accuracy_score\",\n",
    "    return_train_score=True,\n",
    "    scoring={\"p_percent_score\": p_percent_score('lstat'),\n",
    "            \"equal_opportunity_score\": equal_opportunity_score('lstat'),\n",
    "            \"accuracy_score\": make_scorer(accuracy_score)}\n",
    ")\n",
    "\n",
    "with warnings.catch_warnings():\n",
    "    warnings.simplefilter(\"ignore\")\n",
    "    fair_classifier.fit(df_clf, y_clf);\n",
    "\n",
    "    pltr = (pd.DataFrame(fair_classifier.cv_results_)\n",
    "            .set_index(\"param_estimator__covariance_threshold\"))\n",
    "\n",
    "    p_score = p_percent_score('lstat')(normal_classifier, df_clf, y_clf)\n",
    "    acc_score = accuracy_score(normal_classifier.predict(df_clf), y_clf)"
   ]
  },
  {
   "cell_type": "code",
   "execution_count": 36,
   "metadata": {
    "colab": {},
    "colab_type": "code",
    "id": "v8kcx80a8m2o",
    "outputId": "75d0e4ee-0115-4919-9e48-73d15f585222"
   },
   "outputs": [
    {
     "data": {
      "image/png": "[encoded data removed]",
      "text/plain": [
       "<Figure size 864x216 with 2 Axes>"
      ]
     },
     "metadata": {
      "needs_background": "light"
     },
     "output_type": "display_data"
    }
   ],
   "source": [
    "#collapse-hide\n",
    "plt.figure(figsize=(12, 3))\n",
    "plt.subplot(121)\n",
    "plt.plot(np.array(pltr.index), pltr['mean_test_equal_opportunity_score'], label='fairclassifier')\n",
    "plt.plot(np.linspace(0, 1, 2), [p_score for _ in range(2)], label='logistic-regression')\n",
    "plt.xlabel(\"covariance threshold\")\n",
    "plt.legend()\n",
    "plt.title(\"equal opportunity score\")\n",
    "plt.subplot(122)\n",
    "plt.plot(np.array(pltr.index), pltr['mean_test_accuracy_score'], label='fairclassifier')\n",
    "plt.plot(np.linspace(0, 1, 2), [acc_score for _ in range(2)], label='logistic-regression')\n",
    "plt.xlabel(\"covariance threshold\")\n",
    "plt.legend()\n",
    "plt.title(\"accuracy\");"
   ]
  },
  {
   "cell_type": "markdown",
   "metadata": {
    "colab_type": "text",
    "id": "hGLx2Hg18m2q"
   },
   "source": [
    "## Sources\n",
    "\n",
    "<ol>\n",
    "    <li id=\"fn1\">M. Zafar et al. (2017), Fairness Constraints: Mechanisms for Fair Classification</li>\n",
    "    <li id=\"fn2\">M. Hardt, E. Price and N. Srebro (2016), Equality of Opportunity in Supervised Learning</li>\n",
    "</ol>\n",
    "    "
   ]
  }
 ],
 "metadata": {
  "colab": {
   "name": "Copy of fairness.ipynb",
   "provenance": []
  },
  "kernelspec": {
   "display_name": "Python 3",
   "language": "python",
   "name": "python3"
  },
  "language_info": {
   "codemirror_mode": {
    "name": "ipython",
    "version": 3
   },
   "file_extension": ".py",
   "mimetype": "text/x-python",
   "name": "python",
   "nbconvert_exporter": "python",
   "pygments_lexer": "ipython3",
   "version": "3.7.6"
  }
 },
 "nbformat": 4,
 "nbformat_minor": 1
}
